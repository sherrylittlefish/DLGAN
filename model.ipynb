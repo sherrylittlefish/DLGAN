{
  "nbformat": 4,
  "nbformat_minor": 0,
  "metadata": {
    "colab": {
      "provenance": [],
      "authorship_tag": "ABX9TyNKqfR00RvqTQuIhUzxWgAc",
      "include_colab_link": true
    },
    "kernelspec": {
      "name": "python3",
      "display_name": "Python 3"
    },
    "language_info": {
      "name": "python"
    }
  },
  "cells": [
    {
      "cell_type": "markdown",
      "metadata": {
        "id": "view-in-github",
        "colab_type": "text"
      },
      "source": [
        "<a href=\"https://colab.research.google.com/github/sherrylittlefish/DLGAN/blob/main/model.ipynb\" target=\"_parent\"><img src=\"https://colab.research.google.com/assets/colab-badge.svg\" alt=\"Open In Colab\"/></a>"
      ]
    },
    {
      "cell_type": "code",
      "execution_count": 1,
      "metadata": {
        "id": "9xZ5RuGmI9cb",
        "outputId": "838b940c-304e-4294-ec1f-ec11ece406e4",
        "colab": {
          "base_uri": "https://localhost:8080/"
        }
      },
      "outputs": [
        {
          "output_type": "stream",
          "name": "stdout",
          "text": [
            "Mounted at /content/drive\n"
          ]
        }
      ],
      "source": [
        "from google.colab import drive\n",
        "drive.mount('/content/drive')"
      ]
    },
    {
      "cell_type": "markdown",
      "source": [
        "**資料A**"
      ],
      "metadata": {
        "id": "1Nf-yUP7dran"
      }
    },
    {
      "cell_type": "code",
      "source": [
        "import zipfile\n",
        "import os\n",
        "\n",
        "# 設定 zip 檔案路徑（根據你的實際位置修改）\n",
        "zip_path = '/content/drive/MyDrive/高雄大學/pic.zip'\n",
        "unzip_dir = '/content/unzipped'\n",
        "\n",
        "# 解壓 pic.zip 到 /content/unzipped\n",
        "with zipfile.ZipFile(zip_path, 'r') as zip_ref:\n",
        "    zip_ref.extractall(unzip_dir)\n"
      ],
      "metadata": {
        "id": "6dJ4qIlqXI3-"
      },
      "execution_count": 2,
      "outputs": []
    },
    {
      "cell_type": "code",
      "source": [
        "# 解壓 filter1.zip\n",
        "filtered1_zip_path = os.path.join(unzip_dir, 'filtered1.zip')\n",
        "filtered1_dir = os.path.join(unzip_dir, 'filtered1')\n",
        "with zipfile.ZipFile(filtered1_zip_path, 'r') as zip_ref:\n",
        "    zip_ref.extractall(filtered1_dir)"
      ],
      "metadata": {
        "id": "J8_GB3trbEr3"
      },
      "execution_count": 3,
      "outputs": []
    },
    {
      "cell_type": "code",
      "source": [
        "import shutil\n",
        "import random\n",
        "\n",
        "# 指定資料夾與輸出位置\n",
        "folders = ['0051', '0052', '0053']\n",
        "trainA_dir = '/content/dataset/trainA'\n",
        "testA_dir = '/content/dataset/testA'\n",
        "\n",
        "os.makedirs(trainA_dir, exist_ok=True)\n",
        "os.makedirs(testA_dir, exist_ok=True)\n",
        "\n",
        "# 收集所有圖片檔案路徑\n",
        "all_images = []\n",
        "for folder in folders:\n",
        "    folder_path = os.path.join(filtered1_dir, folder)\n",
        "    if os.path.isdir(folder_path):\n",
        "        for fname in os.listdir(folder_path):\n",
        "            fpath = os.path.join(folder_path, fname)\n",
        "            if os.path.isfile(fpath):\n",
        "                all_images.append(fpath)\n",
        "\n",
        "# 打亂順序\n",
        "random.shuffle(all_images)\n",
        "\n",
        "# 分割資料集（約 1:10 比例）\n",
        "split_index = max(1, int(len(all_images) * 0.1))  # 至少1張到testA\n",
        "test_images = all_images[:split_index]\n",
        "train_images = all_images[split_index:]\n",
        "\n",
        "# 複製圖片\n",
        "def copy_images(image_list, target_dir):\n",
        "    for src_path in image_list:\n",
        "        fname = os.path.basename(src_path)\n",
        "        dst_path = os.path.join(target_dir, fname)\n",
        "        # 若重名可加上 prefix 防止覆蓋（這裡為保簡單略過）\n",
        "        shutil.copy(src_path, dst_path)\n",
        "\n",
        "copy_images(train_images, trainA_dir)\n",
        "copy_images(test_images, testA_dir)\n",
        "\n",
        "print(f\"✔ 總共 {len(all_images)} 張圖片，已分成：\")\n",
        "print(f\"   ➤ trainA：{len(train_images)} 張\")\n",
        "print(f\"   ➤ testA ：{len(test_images)} 張\")\n"
      ],
      "metadata": {
        "id": "NOt0S6InbXm4",
        "outputId": "34b9500b-db0e-4f3e-bfa0-0847ffd7ae43",
        "colab": {
          "base_uri": "https://localhost:8080/"
        }
      },
      "execution_count": 4,
      "outputs": [
        {
          "output_type": "stream",
          "name": "stdout",
          "text": [
            "✔ 總共 1359 張圖片，已分成：\n",
            "   ➤ trainA：1224 張\n",
            "   ➤ testA ：135 張\n"
          ]
        }
      ]
    },
    {
      "cell_type": "markdown",
      "source": [
        "**資料B**"
      ],
      "metadata": {
        "id": "Gz_3NyT3dj1u"
      }
    },
    {
      "cell_type": "code",
      "source": [
        "zip_path2 = '/content/drive/MyDrive/高雄大學/person_images_filtered.zip'\n",
        "# 解壓 person_images_filtered.zip 到 /content/unzipped\n",
        "with zipfile.ZipFile(zip_path2, 'r') as zip_ref:\n",
        "    zip_ref.extractall(unzip_dir)"
      ],
      "metadata": {
        "id": "Q1_aXGVvcC0T"
      },
      "execution_count": 5,
      "outputs": []
    },
    {
      "cell_type": "code",
      "source": [
        "# 原始圖片資料夾\n",
        "source_dir = '/content/unzipped/person_images_filtered'\n",
        "\n",
        "# 輸出目錄\n",
        "trainB_dir = '/content/dataset/trainB'\n",
        "testB_dir = '/content/dataset/testB'\n",
        "\n",
        "# 建立資料夾\n",
        "os.makedirs(trainB_dir, exist_ok=True)\n",
        "os.makedirs(testB_dir, exist_ok=True)\n",
        "\n",
        "\n",
        "# 取得所有圖片清單\n",
        "all_images = [f for f in os.listdir(source_dir) if os.path.isfile(os.path.join(source_dir, f))]\n",
        "\n",
        "# 打亂順序\n",
        "random.shuffle(all_images)\n",
        "\n",
        "# # 設定比例（約10%進 testB，其餘進 trainB）\n",
        "# num_test = max(1, int(len(all_images) * 0.1))  # 至少 1 張\n",
        "# test_images = all_images[:num_test]\n",
        "# train_images = all_images[num_test:]\n",
        "\n",
        "# 指定要切出來的數量\n",
        "num_train = 1200\n",
        "num_test = 150\n",
        "\n",
        "# 確保不超過總數\n",
        "num_train = min(num_train, len(all_images))\n",
        "num_test = min(num_test, len(all_images) - num_train)\n",
        "\n",
        "# 切分\n",
        "train_images = all_images[:num_train]\n",
        "test_images = all_images[num_train:num_train + num_test]\n",
        "\n",
        "# 複製檔案\n",
        "def copy_images(image_list, target_dir):\n",
        "    for fname in image_list:\n",
        "        src = os.path.join(source_dir, fname)\n",
        "        dst = os.path.join(target_dir, fname)\n",
        "        shutil.copy(src, dst)\n",
        "\n",
        "copy_images(train_images, trainB_dir)\n",
        "copy_images(test_images, testB_dir)\n",
        "\n",
        "print(f\"✔ 已完成分割：\")\n",
        "print(f\"   ➤ trainB：{len(train_images)} 張\")\n",
        "print(f\"   ➤ testB ：{len(test_images)} 張\")\n"
      ],
      "metadata": {
        "id": "oFzY7krKdMfc",
        "outputId": "21004758-7161-4699-81a9-fd171208bca7",
        "colab": {
          "base_uri": "https://localhost:8080/"
        }
      },
      "execution_count": 6,
      "outputs": [
        {
          "output_type": "stream",
          "name": "stdout",
          "text": [
            "✔ 已完成分割：\n",
            "   ➤ trainB：1200 張\n",
            "   ➤ testB ：150 張\n"
          ]
        }
      ]
    }
  ]
}